{
 "cells": [
  {
   "cell_type": "code",
   "execution_count": 1,
   "id": "c6411029",
   "metadata": {
    "_cell_guid": "b1076dfc-b9ad-4769-8c92-a6c4dae69d19",
    "_uuid": "8f2839f25d086af736a60e9eeb907d3b93b6e0e5",
    "execution": {
     "iopub.execute_input": "2023-10-19T06:19:05.653333Z",
     "iopub.status.busy": "2023-10-19T06:19:05.652682Z",
     "iopub.status.idle": "2023-10-19T06:19:06.080906Z",
     "shell.execute_reply": "2023-10-19T06:19:06.079594Z"
    },
    "papermill": {
     "duration": 0.439593,
     "end_time": "2023-10-19T06:19:06.085738",
     "exception": false,
     "start_time": "2023-10-19T06:19:05.646145",
     "status": "completed"
    },
    "tags": []
   },
   "outputs": [],
   "source": [
    "# This Python 3 environment comes with many helpful analytics libraries installed\n",
    "# It is defined by the kaggle/python Docker image: https://github.com/kaggle/docker-python\n",
    "# For example, here's several helpful packages to load\n",
    "\n",
    "import numpy as np # linear algebra\n",
    "import pandas as pd # data processing, CSV file I/O (e.g. pd.read_csv)\n",
    "\n",
    "# Input data files are available in the read-only \"../input/\" directory\n",
    "# For example, running this (by clicking run or pressing Shift+Enter) will list all files under the input directory\n",
    "\n",
    "# You can write up to 20GB to the current directory (/kaggle/working/) that gets preserved as output when you create a version using \"Save & Run All\" \n",
    "# You can also write temporary files to /kaggle/temp/, but they won't be saved outside of the current session"
   ]
  },
  {
   "cell_type": "code",
   "execution_count": 2,
   "id": "fbdc6874",
   "metadata": {
    "execution": {
     "iopub.execute_input": "2023-10-19T06:19:06.098974Z",
     "iopub.status.busy": "2023-10-19T06:19:06.098444Z",
     "iopub.status.idle": "2023-10-19T06:19:06.209377Z",
     "shell.execute_reply": "2023-10-19T06:19:06.208078Z"
    },
    "papermill": {
     "duration": 0.119391,
     "end_time": "2023-10-19T06:19:06.211817",
     "exception": false,
     "start_time": "2023-10-19T06:19:06.092426",
     "status": "completed"
    },
    "tags": []
   },
   "outputs": [
    {
     "data": {
      "text/html": [
       "<div>\n",
       "<style scoped>\n",
       "    .dataframe tbody tr th:only-of-type {\n",
       "        vertical-align: middle;\n",
       "    }\n",
       "\n",
       "    .dataframe tbody tr th {\n",
       "        vertical-align: top;\n",
       "    }\n",
       "\n",
       "    .dataframe thead th {\n",
       "        text-align: right;\n",
       "    }\n",
       "</style>\n",
       "<table border=\"1\" class=\"dataframe\">\n",
       "  <thead>\n",
       "    <tr style=\"text-align: right;\">\n",
       "      <th></th>\n",
       "      <th>Age</th>\n",
       "      <th>Gender</th>\n",
       "      <th>Total_Bilirubin</th>\n",
       "      <th>Direct_Bilirubin</th>\n",
       "      <th>Alkaline_Phosphotase</th>\n",
       "      <th>Alamine_Aminotransferase</th>\n",
       "      <th>Aspartate_Aminotransferase</th>\n",
       "      <th>Total_Protiens</th>\n",
       "      <th>Albumin</th>\n",
       "      <th>Albumin_and_Globulin_Ratio</th>\n",
       "      <th>Dataset</th>\n",
       "    </tr>\n",
       "  </thead>\n",
       "  <tbody>\n",
       "    <tr>\n",
       "      <th>0</th>\n",
       "      <td>65.0</td>\n",
       "      <td>Female</td>\n",
       "      <td>0.7</td>\n",
       "      <td>0.1</td>\n",
       "      <td>187.0</td>\n",
       "      <td>16.0</td>\n",
       "      <td>18.0</td>\n",
       "      <td>6.8</td>\n",
       "      <td>3.3</td>\n",
       "      <td>0.90</td>\n",
       "      <td>1</td>\n",
       "    </tr>\n",
       "    <tr>\n",
       "      <th>1</th>\n",
       "      <td>62.0</td>\n",
       "      <td>Male</td>\n",
       "      <td>10.9</td>\n",
       "      <td>5.5</td>\n",
       "      <td>699.0</td>\n",
       "      <td>64.0</td>\n",
       "      <td>100.0</td>\n",
       "      <td>7.5</td>\n",
       "      <td>3.2</td>\n",
       "      <td>0.74</td>\n",
       "      <td>1</td>\n",
       "    </tr>\n",
       "    <tr>\n",
       "      <th>2</th>\n",
       "      <td>62.0</td>\n",
       "      <td>Male</td>\n",
       "      <td>7.3</td>\n",
       "      <td>4.1</td>\n",
       "      <td>490.0</td>\n",
       "      <td>60.0</td>\n",
       "      <td>68.0</td>\n",
       "      <td>7.0</td>\n",
       "      <td>3.3</td>\n",
       "      <td>0.89</td>\n",
       "      <td>1</td>\n",
       "    </tr>\n",
       "    <tr>\n",
       "      <th>3</th>\n",
       "      <td>58.0</td>\n",
       "      <td>Male</td>\n",
       "      <td>1.0</td>\n",
       "      <td>0.4</td>\n",
       "      <td>182.0</td>\n",
       "      <td>14.0</td>\n",
       "      <td>20.0</td>\n",
       "      <td>6.8</td>\n",
       "      <td>3.4</td>\n",
       "      <td>1.00</td>\n",
       "      <td>1</td>\n",
       "    </tr>\n",
       "    <tr>\n",
       "      <th>4</th>\n",
       "      <td>72.0</td>\n",
       "      <td>Male</td>\n",
       "      <td>3.9</td>\n",
       "      <td>2.0</td>\n",
       "      <td>195.0</td>\n",
       "      <td>27.0</td>\n",
       "      <td>59.0</td>\n",
       "      <td>7.3</td>\n",
       "      <td>2.4</td>\n",
       "      <td>0.40</td>\n",
       "      <td>1</td>\n",
       "    </tr>\n",
       "  </tbody>\n",
       "</table>\n",
       "</div>"
      ],
      "text/plain": [
       "    Age  Gender  Total_Bilirubin  Direct_Bilirubin  Alkaline_Phosphotase  \\\n",
       "0  65.0  Female              0.7               0.1                 187.0   \n",
       "1  62.0    Male             10.9               5.5                 699.0   \n",
       "2  62.0    Male              7.3               4.1                 490.0   \n",
       "3  58.0    Male              1.0               0.4                 182.0   \n",
       "4  72.0    Male              3.9               2.0                 195.0   \n",
       "\n",
       "   Alamine_Aminotransferase  Aspartate_Aminotransferase  Total_Protiens  \\\n",
       "0                      16.0                        18.0             6.8   \n",
       "1                      64.0                       100.0             7.5   \n",
       "2                      60.0                        68.0             7.0   \n",
       "3                      14.0                        20.0             6.8   \n",
       "4                      27.0                        59.0             7.3   \n",
       "\n",
       "   Albumin  Albumin_and_Globulin_Ratio  Dataset  \n",
       "0      3.3                        0.90        1  \n",
       "1      3.2                        0.74        1  \n",
       "2      3.3                        0.89        1  \n",
       "3      3.4                        1.00        1  \n",
       "4      2.4                        0.40        1  "
      ]
     },
     "execution_count": 2,
     "metadata": {},
     "output_type": "execute_result"
    }
   ],
   "source": [
    "import numpy as np\n",
    "import pandas as pd\n",
    "data=pd.read_csv(\"Liver Patient Dataset (LPD)_train.csv\",encoding= 'unicode_escape')\n",
    "data.head()"
   ]
  },
  {
   "cell_type": "code",
   "execution_count": 3,
   "id": "b08c2d45",
   "metadata": {
    "execution": {
     "iopub.execute_input": "2023-10-19T06:19:06.223123Z",
     "iopub.status.busy": "2023-10-19T06:19:06.222112Z",
     "iopub.status.idle": "2023-10-19T06:19:06.251352Z",
     "shell.execute_reply": "2023-10-19T06:19:06.250314Z"
    },
    "papermill": {
     "duration": 0.037607,
     "end_time": "2023-10-19T06:19:06.253987",
     "exception": false,
     "start_time": "2023-10-19T06:19:06.216380",
     "status": "completed"
    },
    "tags": []
   },
   "outputs": [
    {
     "name": "stdout",
     "output_type": "stream",
     "text": [
      "<class 'pandas.core.frame.DataFrame'>\n",
      "RangeIndex: 30691 entries, 0 to 30690\n",
      "Data columns (total 11 columns):\n",
      " #   Column                      Non-Null Count  Dtype  \n",
      "---  ------                      --------------  -----  \n",
      " 0   Age                         30689 non-null  float64\n",
      " 1   Gender                      29789 non-null  object \n",
      " 2   Total_Bilirubin             30043 non-null  float64\n",
      " 3   Direct_Bilirubin            30130 non-null  float64\n",
      " 4   Alkaline_Phosphotase        29895 non-null  float64\n",
      " 5   Alamine_Aminotransferase    30153 non-null  float64\n",
      " 6   Aspartate_Aminotransferase  30229 non-null  float64\n",
      " 7   Total_Protiens              30228 non-null  float64\n",
      " 8   Albumin                     30197 non-null  float64\n",
      " 9   Albumin_and_Globulin_Ratio  30132 non-null  float64\n",
      " 10  Dataset                     30691 non-null  int64  \n",
      "dtypes: float64(9), int64(1), object(1)\n",
      "memory usage: 2.6+ MB\n"
     ]
    }
   ],
   "source": [
    "data.info()"
   ]
  },
  {
   "cell_type": "code",
   "execution_count": 4,
   "id": "612e3357",
   "metadata": {
    "execution": {
     "iopub.execute_input": "2023-10-19T06:19:06.264656Z",
     "iopub.status.busy": "2023-10-19T06:19:06.264216Z",
     "iopub.status.idle": "2023-10-19T06:19:06.271362Z",
     "shell.execute_reply": "2023-10-19T06:19:06.270238Z"
    },
    "papermill": {
     "duration": 0.014704,
     "end_time": "2023-10-19T06:19:06.273245",
     "exception": false,
     "start_time": "2023-10-19T06:19:06.258541",
     "status": "completed"
    },
    "tags": []
   },
   "outputs": [
    {
     "data": {
      "text/plain": [
       "(30691, 11)"
      ]
     },
     "execution_count": 4,
     "metadata": {},
     "output_type": "execute_result"
    }
   ],
   "source": [
    "data.shape"
   ]
  },
  {
   "cell_type": "code",
   "execution_count": 5,
   "id": "e85681bd",
   "metadata": {
    "execution": {
     "iopub.execute_input": "2023-10-19T06:19:06.283501Z",
     "iopub.status.busy": "2023-10-19T06:19:06.283165Z",
     "iopub.status.idle": "2023-10-19T06:19:06.294583Z",
     "shell.execute_reply": "2023-10-19T06:19:06.293804Z"
    },
    "papermill": {
     "duration": 0.018723,
     "end_time": "2023-10-19T06:19:06.296440",
     "exception": false,
     "start_time": "2023-10-19T06:19:06.277717",
     "status": "completed"
    },
    "tags": []
   },
   "outputs": [
    {
     "data": {
      "text/plain": [
       "Age                             2\n",
       "Gender                        902\n",
       "Total_Bilirubin               648\n",
       "Direct_Bilirubin              561\n",
       "Alkaline_Phosphotase          796\n",
       "Alamine_Aminotransferase      538\n",
       "Aspartate_Aminotransferase    462\n",
       "Total_Protiens                463\n",
       "Albumin                       494\n",
       "Albumin_and_Globulin_Ratio    559\n",
       "Dataset                         0\n",
       "dtype: int64"
      ]
     },
     "execution_count": 5,
     "metadata": {},
     "output_type": "execute_result"
    }
   ],
   "source": [
    "data.isnull().sum()"
   ]
  },
  {
   "cell_type": "code",
   "execution_count": 6,
   "id": "cf03aa0f",
   "metadata": {
    "execution": {
     "iopub.execute_input": "2023-10-19T06:19:06.307431Z",
     "iopub.status.busy": "2023-10-19T06:19:06.306566Z",
     "iopub.status.idle": "2023-10-19T06:19:07.499471Z",
     "shell.execute_reply": "2023-10-19T06:19:07.497645Z"
    },
    "papermill": {
     "duration": 1.201146,
     "end_time": "2023-10-19T06:19:07.502010",
     "exception": false,
     "start_time": "2023-10-19T06:19:06.300864",
     "status": "completed"
    },
    "tags": []
   },
   "outputs": [
    {
     "name": "stdout",
     "output_type": "stream",
     "text": [
      "<class 'pandas.core.frame.DataFrame'>\n",
      "RangeIndex: 30691 entries, 0 to 30690\n",
      "Data columns (total 11 columns):\n",
      " #   Column                      Non-Null Count  Dtype  \n",
      "---  ------                      --------------  -----  \n",
      " 0   Age                         30689 non-null  float64\n",
      " 1   Gender                      30691 non-null  int32  \n",
      " 2   Total_Bilirubin             30043 non-null  float64\n",
      " 3   Direct_Bilirubin            30130 non-null  float64\n",
      " 4   Alkaline_Phosphotase        29895 non-null  float64\n",
      " 5   Alamine_Aminotransferase    30153 non-null  float64\n",
      " 6   Aspartate_Aminotransferase  30229 non-null  float64\n",
      " 7   Total_Protiens              30228 non-null  float64\n",
      " 8   Albumin                     30197 non-null  float64\n",
      " 9   Albumin_and_Globulin_Ratio  30132 non-null  float64\n",
      " 10  Dataset                     30691 non-null  int64  \n",
      "dtypes: float64(9), int32(1), int64(1)\n",
      "memory usage: 2.5 MB\n"
     ]
    }
   ],
   "source": [
    "from sklearn.preprocessing import LabelEncoder\n",
    "enc=LabelEncoder()\n",
    "data['Gender']=enc.fit_transform(data['Gender'])\n",
    "data.info()"
   ]
  },
  {
   "cell_type": "code",
   "execution_count": 7,
   "id": "b6115574",
   "metadata": {
    "execution": {
     "iopub.execute_input": "2023-10-19T06:19:07.513360Z",
     "iopub.status.busy": "2023-10-19T06:19:07.512879Z",
     "iopub.status.idle": "2023-10-19T06:19:07.573714Z",
     "shell.execute_reply": "2023-10-19T06:19:07.572396Z"
    },
    "papermill": {
     "duration": 0.069373,
     "end_time": "2023-10-19T06:19:07.576356",
     "exception": false,
     "start_time": "2023-10-19T06:19:07.506983",
     "status": "completed"
    },
    "tags": []
   },
   "outputs": [
    {
     "data": {
      "text/html": [
       "<div>\n",
       "<style scoped>\n",
       "    .dataframe tbody tr th:only-of-type {\n",
       "        vertical-align: middle;\n",
       "    }\n",
       "\n",
       "    .dataframe tbody tr th {\n",
       "        vertical-align: top;\n",
       "    }\n",
       "\n",
       "    .dataframe thead th {\n",
       "        text-align: right;\n",
       "    }\n",
       "</style>\n",
       "<table border=\"1\" class=\"dataframe\">\n",
       "  <thead>\n",
       "    <tr style=\"text-align: right;\">\n",
       "      <th></th>\n",
       "      <th>Age</th>\n",
       "      <th>Gender</th>\n",
       "      <th>Total_Bilirubin</th>\n",
       "      <th>Direct_Bilirubin</th>\n",
       "      <th>Alkaline_Phosphotase</th>\n",
       "      <th>Alamine_Aminotransferase</th>\n",
       "      <th>Aspartate_Aminotransferase</th>\n",
       "      <th>Total_Protiens</th>\n",
       "      <th>Albumin</th>\n",
       "      <th>Albumin_and_Globulin_Ratio</th>\n",
       "      <th>Dataset</th>\n",
       "    </tr>\n",
       "  </thead>\n",
       "  <tbody>\n",
       "    <tr>\n",
       "      <th>count</th>\n",
       "      <td>30689.000000</td>\n",
       "      <td>30691.000000</td>\n",
       "      <td>30043.000000</td>\n",
       "      <td>30130.000000</td>\n",
       "      <td>29895.000000</td>\n",
       "      <td>30153.000000</td>\n",
       "      <td>30229.000000</td>\n",
       "      <td>30228.000000</td>\n",
       "      <td>30197.000000</td>\n",
       "      <td>30132.000000</td>\n",
       "      <td>30691.000000</td>\n",
       "    </tr>\n",
       "    <tr>\n",
       "      <th>mean</th>\n",
       "      <td>44.107205</td>\n",
       "      <td>0.775146</td>\n",
       "      <td>3.370319</td>\n",
       "      <td>1.528042</td>\n",
       "      <td>289.075364</td>\n",
       "      <td>81.488641</td>\n",
       "      <td>111.469979</td>\n",
       "      <td>6.480237</td>\n",
       "      <td>3.130142</td>\n",
       "      <td>0.943467</td>\n",
       "      <td>1.285882</td>\n",
       "    </tr>\n",
       "    <tr>\n",
       "      <th>std</th>\n",
       "      <td>15.981043</td>\n",
       "      <td>0.482785</td>\n",
       "      <td>6.255522</td>\n",
       "      <td>2.869592</td>\n",
       "      <td>238.537589</td>\n",
       "      <td>182.158850</td>\n",
       "      <td>280.851078</td>\n",
       "      <td>1.081980</td>\n",
       "      <td>0.792281</td>\n",
       "      <td>0.323164</td>\n",
       "      <td>0.451841</td>\n",
       "    </tr>\n",
       "    <tr>\n",
       "      <th>min</th>\n",
       "      <td>4.000000</td>\n",
       "      <td>0.000000</td>\n",
       "      <td>0.400000</td>\n",
       "      <td>0.100000</td>\n",
       "      <td>63.000000</td>\n",
       "      <td>10.000000</td>\n",
       "      <td>10.000000</td>\n",
       "      <td>2.700000</td>\n",
       "      <td>0.900000</td>\n",
       "      <td>0.300000</td>\n",
       "      <td>1.000000</td>\n",
       "    </tr>\n",
       "    <tr>\n",
       "      <th>25%</th>\n",
       "      <td>32.000000</td>\n",
       "      <td>0.000000</td>\n",
       "      <td>0.800000</td>\n",
       "      <td>0.200000</td>\n",
       "      <td>175.000000</td>\n",
       "      <td>23.000000</td>\n",
       "      <td>26.000000</td>\n",
       "      <td>5.800000</td>\n",
       "      <td>2.600000</td>\n",
       "      <td>0.700000</td>\n",
       "      <td>1.000000</td>\n",
       "    </tr>\n",
       "    <tr>\n",
       "      <th>50%</th>\n",
       "      <td>45.000000</td>\n",
       "      <td>1.000000</td>\n",
       "      <td>1.000000</td>\n",
       "      <td>0.300000</td>\n",
       "      <td>209.000000</td>\n",
       "      <td>35.000000</td>\n",
       "      <td>42.000000</td>\n",
       "      <td>6.600000</td>\n",
       "      <td>3.100000</td>\n",
       "      <td>0.900000</td>\n",
       "      <td>1.000000</td>\n",
       "    </tr>\n",
       "    <tr>\n",
       "      <th>75%</th>\n",
       "      <td>55.000000</td>\n",
       "      <td>1.000000</td>\n",
       "      <td>2.700000</td>\n",
       "      <td>1.300000</td>\n",
       "      <td>298.000000</td>\n",
       "      <td>62.000000</td>\n",
       "      <td>88.000000</td>\n",
       "      <td>7.200000</td>\n",
       "      <td>3.800000</td>\n",
       "      <td>1.100000</td>\n",
       "      <td>2.000000</td>\n",
       "    </tr>\n",
       "    <tr>\n",
       "      <th>max</th>\n",
       "      <td>90.000000</td>\n",
       "      <td>2.000000</td>\n",
       "      <td>75.000000</td>\n",
       "      <td>19.700000</td>\n",
       "      <td>2110.000000</td>\n",
       "      <td>2000.000000</td>\n",
       "      <td>4929.000000</td>\n",
       "      <td>9.600000</td>\n",
       "      <td>5.500000</td>\n",
       "      <td>2.800000</td>\n",
       "      <td>2.000000</td>\n",
       "    </tr>\n",
       "  </tbody>\n",
       "</table>\n",
       "</div>"
      ],
      "text/plain": [
       "                Age        Gender  Total_Bilirubin  Direct_Bilirubin  \\\n",
       "count  30689.000000  30691.000000     30043.000000      30130.000000   \n",
       "mean      44.107205      0.775146         3.370319          1.528042   \n",
       "std       15.981043      0.482785         6.255522          2.869592   \n",
       "min        4.000000      0.000000         0.400000          0.100000   \n",
       "25%       32.000000      0.000000         0.800000          0.200000   \n",
       "50%       45.000000      1.000000         1.000000          0.300000   \n",
       "75%       55.000000      1.000000         2.700000          1.300000   \n",
       "max       90.000000      2.000000        75.000000         19.700000   \n",
       "\n",
       "       Alkaline_Phosphotase  Alamine_Aminotransferase  \\\n",
       "count          29895.000000              30153.000000   \n",
       "mean             289.075364                 81.488641   \n",
       "std              238.537589                182.158850   \n",
       "min               63.000000                 10.000000   \n",
       "25%              175.000000                 23.000000   \n",
       "50%              209.000000                 35.000000   \n",
       "75%              298.000000                 62.000000   \n",
       "max             2110.000000               2000.000000   \n",
       "\n",
       "       Aspartate_Aminotransferase  Total_Protiens       Albumin  \\\n",
       "count                30229.000000    30228.000000  30197.000000   \n",
       "mean                   111.469979        6.480237      3.130142   \n",
       "std                    280.851078        1.081980      0.792281   \n",
       "min                     10.000000        2.700000      0.900000   \n",
       "25%                     26.000000        5.800000      2.600000   \n",
       "50%                     42.000000        6.600000      3.100000   \n",
       "75%                     88.000000        7.200000      3.800000   \n",
       "max                   4929.000000        9.600000      5.500000   \n",
       "\n",
       "       Albumin_and_Globulin_Ratio       Dataset  \n",
       "count                30132.000000  30691.000000  \n",
       "mean                     0.943467      1.285882  \n",
       "std                      0.323164      0.451841  \n",
       "min                      0.300000      1.000000  \n",
       "25%                      0.700000      1.000000  \n",
       "50%                      0.900000      1.000000  \n",
       "75%                      1.100000      2.000000  \n",
       "max                      2.800000      2.000000  "
      ]
     },
     "execution_count": 7,
     "metadata": {},
     "output_type": "execute_result"
    }
   ],
   "source": [
    "data.describe()"
   ]
  },
  {
   "cell_type": "code",
   "execution_count": 8,
   "id": "4aac6a22",
   "metadata": {
    "execution": {
     "iopub.execute_input": "2023-10-19T06:19:07.589233Z",
     "iopub.status.busy": "2023-10-19T06:19:07.588004Z",
     "iopub.status.idle": "2023-10-19T06:19:07.606456Z",
     "shell.execute_reply": "2023-10-19T06:19:07.605678Z"
    },
    "papermill": {
     "duration": 0.02666,
     "end_time": "2023-10-19T06:19:07.608307",
     "exception": false,
     "start_time": "2023-10-19T06:19:07.581647",
     "status": "completed"
    },
    "tags": []
   },
   "outputs": [],
   "source": [
    "data['Albumin_and_Globulin_Ratio']= data['Albumin_and_Globulin_Ratio'].fillna(data['Albumin_and_Globulin_Ratio'].mean())\n",
    "data['Age']=data['Age'].fillna(data['Age'].mean())\n",
    "data['Total_Bilirubin']=data['Total_Bilirubin'].fillna(data['Total_Bilirubin'].mean())\n",
    "data['Direct_Bilirubin']=data['Direct_Bilirubin'].fillna(data['Direct_Bilirubin'].mean())\n",
    "data['Alkaline_Phosphotase']=data['Alkaline_Phosphotase'].fillna(data['Alkaline_Phosphotase'].mean())\n",
    "data['Alamine_Aminotransferase']=data['Alamine_Aminotransferase'].fillna(data['Alamine_Aminotransferase'].mean())\n",
    "data['Aspartate_Aminotransferase']=data['Aspartate_Aminotransferase'].fillna(data['Aspartate_Aminotransferase'].mean())\n",
    "data['Total_Protiens']=data['Total_Protiens'].fillna(data['Total_Protiens'].mean())\n",
    "data['Albumin']=data['Albumin'].fillna(data['Albumin'].mean())\n",
    "data['Gender']=data['Gender'].fillna(data['Gender'].mean())"
   ]
  },
  {
   "cell_type": "code",
   "execution_count": 9,
   "id": "51fb91a5",
   "metadata": {
    "execution": {
     "iopub.execute_input": "2023-10-19T06:19:07.620576Z",
     "iopub.status.busy": "2023-10-19T06:19:07.620210Z",
     "iopub.status.idle": "2023-10-19T06:19:07.649618Z",
     "shell.execute_reply": "2023-10-19T06:19:07.648160Z"
    },
    "papermill": {
     "duration": 0.038582,
     "end_time": "2023-10-19T06:19:07.652195",
     "exception": false,
     "start_time": "2023-10-19T06:19:07.613613",
     "status": "completed"
    },
    "tags": []
   },
   "outputs": [
    {
     "name": "stdout",
     "output_type": "stream",
     "text": [
      "<class 'pandas.core.frame.DataFrame'>\n",
      "Index: 19368 entries, 0 to 30689\n",
      "Data columns (total 11 columns):\n",
      " #   Column                      Non-Null Count  Dtype  \n",
      "---  ------                      --------------  -----  \n",
      " 0   Age                         19368 non-null  float64\n",
      " 1   Gender                      19368 non-null  int32  \n",
      " 2   Total_Bilirubin             19368 non-null  float64\n",
      " 3   Direct_Bilirubin            19368 non-null  float64\n",
      " 4   Alkaline_Phosphotase        19368 non-null  float64\n",
      " 5   Alamine_Aminotransferase    19368 non-null  float64\n",
      " 6   Aspartate_Aminotransferase  19368 non-null  float64\n",
      " 7   Total_Protiens              19368 non-null  float64\n",
      " 8   Albumin                     19368 non-null  float64\n",
      " 9   Albumin_and_Globulin_Ratio  19368 non-null  float64\n",
      " 10  Dataset                     19368 non-null  int64  \n",
      "dtypes: float64(9), int32(1), int64(1)\n",
      "memory usage: 1.7 MB\n"
     ]
    }
   ],
   "source": [
    "data=data.drop_duplicates()\n",
    "data.info()"
   ]
  },
  {
   "cell_type": "code",
   "execution_count": 10,
   "id": "2c946b6d",
   "metadata": {
    "execution": {
     "iopub.execute_input": "2023-10-19T06:19:07.665022Z",
     "iopub.status.busy": "2023-10-19T06:19:07.664653Z",
     "iopub.status.idle": "2023-10-19T06:19:07.673770Z",
     "shell.execute_reply": "2023-10-19T06:19:07.672476Z"
    },
    "papermill": {
     "duration": 0.018069,
     "end_time": "2023-10-19T06:19:07.675833",
     "exception": false,
     "start_time": "2023-10-19T06:19:07.657764",
     "status": "completed"
    },
    "tags": []
   },
   "outputs": [
    {
     "data": {
      "text/plain": [
       "Dataset\n",
       "1    13811\n",
       "2     5557\n",
       "Name: count, dtype: int64"
      ]
     },
     "execution_count": 10,
     "metadata": {},
     "output_type": "execute_result"
    }
   ],
   "source": [
    "data['Dataset'].value_counts()"
   ]
  },
  {
   "cell_type": "code",
   "execution_count": 11,
   "id": "cbbc2e30",
   "metadata": {
    "execution": {
     "iopub.execute_input": "2023-10-19T06:19:07.688238Z",
     "iopub.status.busy": "2023-10-19T06:19:07.687874Z",
     "iopub.status.idle": "2023-10-19T06:19:07.696253Z",
     "shell.execute_reply": "2023-10-19T06:19:07.695267Z"
    },
    "papermill": {
     "duration": 0.017029,
     "end_time": "2023-10-19T06:19:07.698464",
     "exception": false,
     "start_time": "2023-10-19T06:19:07.681435",
     "status": "completed"
    },
    "tags": []
   },
   "outputs": [],
   "source": [
    "cls_0=data[data['Dataset']==1]\n",
    "cls_1=data[data['Dataset']==2]"
   ]
  },
  {
   "cell_type": "code",
   "execution_count": 12,
   "id": "32bb092a",
   "metadata": {
    "execution": {
     "iopub.execute_input": "2023-10-19T06:19:07.710656Z",
     "iopub.status.busy": "2023-10-19T06:19:07.710261Z",
     "iopub.status.idle": "2023-10-19T06:19:07.716785Z",
     "shell.execute_reply": "2023-10-19T06:19:07.715700Z"
    },
    "papermill": {
     "duration": 0.014895,
     "end_time": "2023-10-19T06:19:07.718664",
     "exception": false,
     "start_time": "2023-10-19T06:19:07.703769",
     "status": "completed"
    },
    "tags": []
   },
   "outputs": [
    {
     "data": {
      "text/plain": [
       "5557"
      ]
     },
     "execution_count": 12,
     "metadata": {},
     "output_type": "execute_result"
    }
   ],
   "source": [
    "len(cls_1)"
   ]
  },
  {
   "cell_type": "code",
   "execution_count": 13,
   "id": "13755759",
   "metadata": {
    "execution": {
     "iopub.execute_input": "2023-10-19T06:19:07.730644Z",
     "iopub.status.busy": "2023-10-19T06:19:07.730220Z",
     "iopub.status.idle": "2023-10-19T06:19:07.753611Z",
     "shell.execute_reply": "2023-10-19T06:19:07.752852Z"
    },
    "papermill": {
     "duration": 0.032418,
     "end_time": "2023-10-19T06:19:07.756309",
     "exception": false,
     "start_time": "2023-10-19T06:19:07.723891",
     "status": "completed"
    },
    "tags": []
   },
   "outputs": [
    {
     "name": "stdout",
     "output_type": "stream",
     "text": [
      "<class 'pandas.core.frame.DataFrame'>\n",
      "Index: 27581 entries, 0 to 29703\n",
      "Data columns (total 11 columns):\n",
      " #   Column                      Non-Null Count  Dtype  \n",
      "---  ------                      --------------  -----  \n",
      " 0   Age                         27581 non-null  float64\n",
      " 1   Gender                      27581 non-null  int32  \n",
      " 2   Total_Bilirubin             27581 non-null  float64\n",
      " 3   Direct_Bilirubin            27581 non-null  float64\n",
      " 4   Alkaline_Phosphotase        27581 non-null  float64\n",
      " 5   Alamine_Aminotransferase    27581 non-null  float64\n",
      " 6   Aspartate_Aminotransferase  27581 non-null  float64\n",
      " 7   Total_Protiens              27581 non-null  float64\n",
      " 8   Albumin                     27581 non-null  float64\n",
      " 9   Albumin_and_Globulin_Ratio  27581 non-null  float64\n",
      " 10  Dataset                     27581 non-null  int64  \n",
      "dtypes: float64(9), int32(1), int64(1)\n",
      "memory usage: 2.4 MB\n"
     ]
    }
   ],
   "source": [
    "cls_1=cls_1.sample(13770,replace=True)\n",
    "data=pd.concat([cls_0,cls_1],axis=0)\n",
    "data.info()"
   ]
  },
  {
   "cell_type": "code",
   "execution_count": 14,
   "id": "2bee21cd",
   "metadata": {
    "execution": {
     "iopub.execute_input": "2023-10-19T06:19:07.770007Z",
     "iopub.status.busy": "2023-10-19T06:19:07.769683Z",
     "iopub.status.idle": "2023-10-19T06:19:07.798367Z",
     "shell.execute_reply": "2023-10-19T06:19:07.797346Z"
    },
    "papermill": {
     "duration": 0.038029,
     "end_time": "2023-10-19T06:19:07.800458",
     "exception": false,
     "start_time": "2023-10-19T06:19:07.762429",
     "status": "completed"
    },
    "tags": []
   },
   "outputs": [],
   "source": [
    "\n",
    "data['Dataset'] = data['Dataset'].replace(2, 0)\n"
   ]
  },
  {
   "cell_type": "code",
   "execution_count": 15,
   "id": "8aee4616",
   "metadata": {
    "execution": {
     "iopub.execute_input": "2023-10-19T06:19:07.813510Z",
     "iopub.status.busy": "2023-10-19T06:19:07.813177Z",
     "iopub.status.idle": "2023-10-19T06:19:07.821663Z",
     "shell.execute_reply": "2023-10-19T06:19:07.820483Z"
    },
    "papermill": {
     "duration": 0.017556,
     "end_time": "2023-10-19T06:19:07.823684",
     "exception": false,
     "start_time": "2023-10-19T06:19:07.806128",
     "status": "completed"
    },
    "tags": []
   },
   "outputs": [
    {
     "data": {
      "text/plain": [
       "Dataset\n",
       "1    13811\n",
       "0    13770\n",
       "Name: count, dtype: int64"
      ]
     },
     "execution_count": 15,
     "metadata": {},
     "output_type": "execute_result"
    }
   ],
   "source": [
    "data['Dataset'].value_counts()"
   ]
  },
  {
   "cell_type": "code",
   "execution_count": 17,
   "id": "6f38b082",
   "metadata": {},
   "outputs": [
    {
     "data": {
      "text/html": [
       "<style>#sk-container-id-1 {color: black;}#sk-container-id-1 pre{padding: 0;}#sk-container-id-1 div.sk-toggleable {background-color: white;}#sk-container-id-1 label.sk-toggleable__label {cursor: pointer;display: block;width: 100%;margin-bottom: 0;padding: 0.3em;box-sizing: border-box;text-align: center;}#sk-container-id-1 label.sk-toggleable__label-arrow:before {content: \"▸\";float: left;margin-right: 0.25em;color: #696969;}#sk-container-id-1 label.sk-toggleable__label-arrow:hover:before {color: black;}#sk-container-id-1 div.sk-estimator:hover label.sk-toggleable__label-arrow:before {color: black;}#sk-container-id-1 div.sk-toggleable__content {max-height: 0;max-width: 0;overflow: hidden;text-align: left;background-color: #f0f8ff;}#sk-container-id-1 div.sk-toggleable__content pre {margin: 0.2em;color: black;border-radius: 0.25em;background-color: #f0f8ff;}#sk-container-id-1 input.sk-toggleable__control:checked~div.sk-toggleable__content {max-height: 200px;max-width: 100%;overflow: auto;}#sk-container-id-1 input.sk-toggleable__control:checked~label.sk-toggleable__label-arrow:before {content: \"▾\";}#sk-container-id-1 div.sk-estimator input.sk-toggleable__control:checked~label.sk-toggleable__label {background-color: #d4ebff;}#sk-container-id-1 div.sk-label input.sk-toggleable__control:checked~label.sk-toggleable__label {background-color: #d4ebff;}#sk-container-id-1 input.sk-hidden--visually {border: 0;clip: rect(1px 1px 1px 1px);clip: rect(1px, 1px, 1px, 1px);height: 1px;margin: -1px;overflow: hidden;padding: 0;position: absolute;width: 1px;}#sk-container-id-1 div.sk-estimator {font-family: monospace;background-color: #f0f8ff;border: 1px dotted black;border-radius: 0.25em;box-sizing: border-box;margin-bottom: 0.5em;}#sk-container-id-1 div.sk-estimator:hover {background-color: #d4ebff;}#sk-container-id-1 div.sk-parallel-item::after {content: \"\";width: 100%;border-bottom: 1px solid gray;flex-grow: 1;}#sk-container-id-1 div.sk-label:hover label.sk-toggleable__label {background-color: #d4ebff;}#sk-container-id-1 div.sk-serial::before {content: \"\";position: absolute;border-left: 1px solid gray;box-sizing: border-box;top: 0;bottom: 0;left: 50%;z-index: 0;}#sk-container-id-1 div.sk-serial {display: flex;flex-direction: column;align-items: center;background-color: white;padding-right: 0.2em;padding-left: 0.2em;position: relative;}#sk-container-id-1 div.sk-item {position: relative;z-index: 1;}#sk-container-id-1 div.sk-parallel {display: flex;align-items: stretch;justify-content: center;background-color: white;position: relative;}#sk-container-id-1 div.sk-item::before, #sk-container-id-1 div.sk-parallel-item::before {content: \"\";position: absolute;border-left: 1px solid gray;box-sizing: border-box;top: 0;bottom: 0;left: 50%;z-index: -1;}#sk-container-id-1 div.sk-parallel-item {display: flex;flex-direction: column;z-index: 1;position: relative;background-color: white;}#sk-container-id-1 div.sk-parallel-item:first-child::after {align-self: flex-end;width: 50%;}#sk-container-id-1 div.sk-parallel-item:last-child::after {align-self: flex-start;width: 50%;}#sk-container-id-1 div.sk-parallel-item:only-child::after {width: 0;}#sk-container-id-1 div.sk-dashed-wrapped {border: 1px dashed gray;margin: 0 0.4em 0.5em 0.4em;box-sizing: border-box;padding-bottom: 0.4em;background-color: white;}#sk-container-id-1 div.sk-label label {font-family: monospace;font-weight: bold;display: inline-block;line-height: 1.2em;}#sk-container-id-1 div.sk-label-container {text-align: center;}#sk-container-id-1 div.sk-container {/* jupyter's `normalize.less` sets `[hidden] { display: none; }` but bootstrap.min.css set `[hidden] { display: none !important; }` so we also need the `!important` here to be able to override the default hidden behavior on the sphinx rendered scikit-learn.org. See: https://github.com/scikit-learn/scikit-learn/issues/21755 */display: inline-block !important;position: relative;}#sk-container-id-1 div.sk-text-repr-fallback {display: none;}</style><div id=\"sk-container-id-1\" class=\"sk-top-container\"><div class=\"sk-text-repr-fallback\"><pre>RandomForestClassifier()</pre><b>In a Jupyter environment, please rerun this cell to show the HTML representation or trust the notebook. <br />On GitHub, the HTML representation is unable to render, please try loading this page with nbviewer.org.</b></div><div class=\"sk-container\" hidden><div class=\"sk-item\"><div class=\"sk-estimator sk-toggleable\"><input class=\"sk-toggleable__control sk-hidden--visually\" id=\"sk-estimator-id-1\" type=\"checkbox\" checked><label for=\"sk-estimator-id-1\" class=\"sk-toggleable__label sk-toggleable__label-arrow\">RandomForestClassifier</label><div class=\"sk-toggleable__content\"><pre>RandomForestClassifier()</pre></div></div></div></div></div>"
      ],
      "text/plain": [
       "RandomForestClassifier()"
      ]
     },
     "execution_count": 17,
     "metadata": {},
     "output_type": "execute_result"
    }
   ],
   "source": [
    "from sklearn.ensemble import RandomForestClassifier\n",
    "from sklearn.model_selection import train_test_split\n",
    "#SPLITTING TEST AND TRAIN DATA\n",
    "X = data.drop(columns='Dataset', axis=1)\n",
    "Y = data['Dataset']\n",
    "X_train, X_test, Y_train, Y_test = train_test_split(X, Y, test_size=0.3, random_state=42)\n",
    "\n",
    "random_forest_classifier = RandomForestClassifier()\n",
    "random_forest_classifier.fit(X_train, Y_train)"
   ]
  },
  {
   "cell_type": "code",
   "execution_count": 18,
   "id": "0a1bb0f8",
   "metadata": {},
   "outputs": [],
   "source": [
    "y_pred=random_forest_classifier.predict(X_test)"
   ]
  },
  {
   "cell_type": "code",
   "execution_count": 19,
   "id": "1fde7388",
   "metadata": {},
   "outputs": [],
   "source": [
    "true_labels=Y_test\n",
    "predicted_labels=y_pred\n",
    "from sklearn.metrics import accuracy_score\n",
    "\n",
    "accuracy = accuracy_score(true_labels, predicted_labels)\n",
    "from sklearn.metrics import precision_score, recall_score, f1_score\n",
    "\n",
    "precision = precision_score(true_labels, predicted_labels)\n",
    "recall = recall_score(true_labels, predicted_labels)\n",
    "f1 = f1_score(true_labels, predicted_labels)\n"
   ]
  },
  {
   "cell_type": "code",
   "execution_count": 20,
   "id": "0e689bce",
   "metadata": {},
   "outputs": [
    {
     "name": "stdout",
     "output_type": "stream",
     "text": [
      "0.9974622356495468 0.9985507246376811 0.9963846710050615 0.9974665218964894\n"
     ]
    }
   ],
   "source": [
    "print(accuracy,precision,recall,f1)"
   ]
  },
  {
   "cell_type": "code",
   "execution_count": 33,
   "id": "f96d5735",
   "metadata": {},
   "outputs": [
    {
     "name": "stdout",
     "output_type": "stream",
     "text": [
      "[64, 1, 0.9, 0.3, 310, 61, 58, 7, 3.4, 0.9]\n",
      "{'Age': 64, 'Gender': 1, 'Total_Bilirubin': 0.9, 'Direct_Bilirubin': 0.3, 'Alkaline_Phosphotase': 310, 'Alamine_Aminotransferase': 61, 'Aspartate_Aminotransferase': 58, 'Total_Protiens': 7, 'Albumin': 3.4, 'Albumin_and_Globulin_Ratio': 0.9}\n",
      "   Age  Gender  Total_Bilirubin  Direct_Bilirubin  Alkaline_Phosphotase  \\\n",
      "0   64       1              0.9               0.3                   310   \n",
      "\n",
      "   Alamine_Aminotransferase  Aspartate_Aminotransferase  Total_Protiens  \\\n",
      "0                        61                          58               7   \n",
      "\n",
      "   Albumin  Albumin_and_Globulin_Ratio  \n",
      "0      3.4                         0.9  \n"
     ]
    }
   ],
   "source": [
    "rdata=[64,1,0.9,0.3,310,61,58,7,3.4,0.9]#no\n",
    "#rdata=[17,1,0.9,0.3,202,22,19,7.4,4.1,1.2]#no\n",
    "#rdata=[None,None,None,None,None,None,None,None,None,None]\n",
    "#rdata=[65,1,\t0.7\t,0.1\t,187\t,16\t,18\t,6.8,\t3.3\t,0.90]#yes\n",
    "#rdata=[65,None,0.7,None,187,16,None,6.8,3.3,0.90]#yes\n",
    "#rdata=[85,0,1,0.3,208,17,15,7,3.6,1]#no\n",
    "#rdata=[64,1,0.9,0.3,310,61,58,7,3.4,0.9]#no\n",
    "#rdata=[17,1,0.9,0.3,202,22,19,7.4,4.1,1.2]#no\n",
    "#rdata=[35,1,1.8,0.6,275,48,178,6.5,3.2,0.9]#no\n",
    "#rdata=[38,1,1,0.3,216,21,24,7.3,4.4,1.5]#no\n",
    "mean=dict()\n",
    "if(rdata[1] == 'Male'):\n",
    "    rdata[1]=1\n",
    "elif(rdata[1]==\"Female\"):\n",
    "    rdata[1]=0\n",
    "if(rdata.count(None)>4):\n",
    "    print(\"Please provide proper data to predict\")\n",
    "else:\n",
    "    c=['Age', 'Gender', 'Total_Bilirubin', 'Direct_Bilirubin',\n",
    "        'Alkaline_Phosphotase', 'Alamine_Aminotransferase',\n",
    "        'Aspartate_Aminotransferase', 'Total_Protiens', 'Albumin',\n",
    "        'Albumin_and_Globulin_Ratio']\n",
    "    d=dict()\n",
    "    for i,j in zip(rdata,c):\n",
    "        if(j=='Age' and i==None):\n",
    "            i=data['Age'].mean()\n",
    "            \n",
    "        elif(j=='Total_Bilirubin' and i==None):\n",
    "            i=data['Total_Bilirubin'].mean()\n",
    "        elif(j=='Gender' and i==None):\n",
    "            i=data['Gender'].mean()\n",
    "        elif(j=='Direct_Bilirubin' and i==None):\n",
    "            i=data['Direct_Bilirubin'].mean()\n",
    "        elif(j=='Alkaline_Phosphotase' and i==None):\n",
    "            i=data['Alkaline_Phosphotase'].mean()\n",
    "        elif(j=='Alamine_Aminotransferase' and i==None):\n",
    "            i=data['Alamine_Aminotransferase'].mean()\n",
    "        elif(j=='Aspartate_Aminotransferase' and i==None):\n",
    "            i=data['Aspartate_Aminotransferase'].mean()\n",
    "        elif(j=='Total_Protiens' and i==None):\n",
    "            i=data['Total_Protiens'].mean()\n",
    "        elif(j=='Albumin' and i==None):\n",
    "            i=data['Albumin'].mean()\n",
    "        elif(j=='Albumin_and_Globulin_Ratio' and i==None):\n",
    "            i=data['Albumin_and_Globulin_Ratio'].mean()\n",
    "        d[j]=i\n",
    "        mean[j]=data[j].mean()\n",
    "\n",
    "\n",
    "\n",
    "    print(rdata)\n",
    "    print(d)\n",
    "    c=['Age', 'Gender', 'Total_Bilirubin', 'Direct_Bilirubin','Alkaline_Phosphotase', 'Alamine_Aminotransferase','Aspartate_Aminotransferase', 'Total_Protiens', 'Albumin','Albumin_and_Globulin_Ratio']\n",
    "\n",
    "\n",
    "\n",
    "    rdata=pd.DataFrame(d,index=[0])\n",
    "    print(rdata)\n"
   ]
  },
  {
   "cell_type": "code",
   "execution_count": 29,
   "id": "ccf575f5",
   "metadata": {},
   "outputs": [
    {
     "name": "stdout",
     "output_type": "stream",
     "text": [
      "[0]\n"
     ]
    }
   ],
   "source": [
    "print(random_forest_classifier.predict(rdata))"
   ]
  },
  {
   "cell_type": "code",
   "execution_count": 32,
   "id": "96363c99",
   "metadata": {},
   "outputs": [
    {
     "data": {
      "text/plain": [
       "['model.pkl']"
      ]
     },
     "execution_count": 32,
     "metadata": {},
     "output_type": "execute_result"
    }
   ],
   "source": [
    "from sklearn.ensemble import RandomForestClassifier\n",
    "import joblib\n",
    "joblib.dump(random_forest_classifier, 'model.pkl')"
   ]
  },
  {
   "cell_type": "code",
   "execution_count": 34,
   "id": "4fb208c7",
   "metadata": {},
   "outputs": [
    {
     "data": {
      "text/plain": [
       "{'Age': 43.77430503624002,\n",
       " 'Gender': 0.752510786410935,\n",
       " 'Total_Bilirubin': 2.6878872383517614,\n",
       " 'Direct_Bilirubin': 1.1910043185354189,\n",
       " 'Alkaline_Phosphotase': 269.8929529303398,\n",
       " 'Alamine_Aminotransferase': 67.08599187783459,\n",
       " 'Aspartate_Aminotransferase': 90.6054105391029,\n",
       " 'Total_Protiens': 6.523273305491896,\n",
       " 'Albumin': 3.2072029024080475,\n",
       " 'Albumin_and_Globulin_Ratio': 0.9701843668913785}"
      ]
     },
     "execution_count": 34,
     "metadata": {},
     "output_type": "execute_result"
    }
   ],
   "source": [
    "mean"
   ]
  },
  {
   "cell_type": "code",
   "execution_count": null,
   "id": "e591f664",
   "metadata": {},
   "outputs": [],
   "source": []
  }
 ],
 "metadata": {
  "kernelspec": {
   "display_name": "Python 3 (ipykernel)",
   "language": "python",
   "name": "python3"
  },
  "language_info": {
   "codemirror_mode": {
    "name": "ipython",
    "version": 3
   },
   "file_extension": ".py",
   "mimetype": "text/x-python",
   "name": "python",
   "nbconvert_exporter": "python",
   "pygments_lexer": "ipython3",
   "version": "3.9.13"
  },
  "papermill": {
   "default_parameters": {},
   "duration": 117.256123,
   "end_time": "2023-10-19T06:20:59.622709",
   "environment_variables": {},
   "exception": null,
   "input_path": "__notebook__.ipynb",
   "output_path": "__notebook__.ipynb",
   "parameters": {},
   "start_time": "2023-10-19T06:19:02.366586",
   "version": "2.4.0"
  }
 },
 "nbformat": 4,
 "nbformat_minor": 5
}
